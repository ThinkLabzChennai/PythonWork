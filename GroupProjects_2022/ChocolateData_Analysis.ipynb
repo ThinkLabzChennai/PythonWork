{
 "cells": [
  {
   "attachments": {},
   "cell_type": "markdown",
   "metadata": {},
   "source": [
    "# MUNEERUNNISA M, Saalima Gowher, & Mohammed Adil sherif\n",
    "# Thinklabz Trainees\n",
    "# 2022 batch\n",
    "# Group Project\n",
    "\n",
    "# About Project:"
   ]
  },
  {
   "attachments": {},
   "cell_type": "markdown",
   "metadata": {},
   "source": [
    "## Main Project:(Chocolate  Preference)\n",
    "We have done a team project.\n",
    "Chocolate is one of the most popular food items worldwide, and there are countless brands available in the market.\n",
    "A survey was conducted to understand people's preferences and ratings for chocolate brands. \n",
    "This survey collected data on various chocolate brands and their ratings based on people's interests.\n",
    "The data was then analysed to understand the most popular chocolate brands, factors influencing people's choices, and other insights related to chocolate consumption habits.\n",
    "We discussed with psychologists to prepare a set of questions. We had multiple discussions with them. "
   ]
  },
  {
   "attachments": {},
   "cell_type": "markdown",
   "metadata": {},
   "source": [
    "Here the link of web app is available which hosted in Internet\n",
    "### Streamlit\n",
    "https://muniraghouse-chocolate-prefer-final-f1-bkyfcm.streamlit.app/\n",
    "### Render\n",
    "https://choco-kvi7.onrender.com/\n",
    "\n",
    "## Github:\n",
    "https://github.com/muniraghouse/chocolate_Prefer"
   ]
  },
  {
   "attachments": {},
   "cell_type": "markdown",
   "metadata": {},
   "source": []
  }
 ],
 "metadata": {
  "language_info": {
   "name": "python"
  },
  "orig_nbformat": 4
 },
 "nbformat": 4,
 "nbformat_minor": 2
}
