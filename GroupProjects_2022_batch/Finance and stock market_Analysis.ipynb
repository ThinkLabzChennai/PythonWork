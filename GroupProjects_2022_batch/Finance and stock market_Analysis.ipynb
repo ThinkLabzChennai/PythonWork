{
 "cells": [
  {
   "attachments": {},
   "cell_type": "markdown",
   "metadata": {},
   "source": [
    "# FAEEZA SAMREEN, KHANITA YUSRA, & SYED ZAID AHMED\n",
    "# Thinklabz Trainees\n",
    "# 2022 batch\n",
    "# Group Project\n",
    "\n",
    "# About Project:"
   ]
  },
  {
   "attachments": {},
   "cell_type": "markdown",
   "metadata": {},
   "source": [
    "## Main Project:\n",
    "\n",
    "## Financial Literacy and Stock Market Analysis\n",
    "\n",
    "## Description\n",
    "\n",
    "This dataset contains information of 250 data collected from survey regarding people's opinion about Finanacial literacy and Share market which includes 28 variables.\n",
    "\n",
    "## Abstract\n",
    "\n",
    "This data analysis report explores the various relationships and ideas that can be concluded from using statistical methods and packages from the R programming language, concerning a data set which discuss people's perspective realted to financial matters and Stock market. \n",
    "It will be informarive to know how people handle their Finance and their Opinion about Stock.\n"
   ]
  },
  {
   "attachments": {},
   "cell_type": "markdown",
   "metadata": {},
   "source": [
    "Here the link of web app is available which hosted in Internet\n",
    "### Render\n",
    "https://finance-and-stock.onrender.com/\n",
    "\n",
    "## Github:\n",
    "https://github.com/KhanitaYusra/FL_SM"
   ]
  }
 ],
 "metadata": {
  "language_info": {
   "name": "python"
  },
  "orig_nbformat": 4
 },
 "nbformat": 4,
 "nbformat_minor": 2
}
