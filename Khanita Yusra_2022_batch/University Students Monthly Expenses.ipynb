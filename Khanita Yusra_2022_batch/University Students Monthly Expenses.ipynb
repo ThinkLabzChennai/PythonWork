{
 "cells": [
  {
   "attachments": {},
   "cell_type": "markdown",
   "metadata": {},
   "source": [
    "## KHANITA YUSRA.S\n",
    "### Thinklabz Trainee\n",
    "### 2022 batch"
   ]
  },
  {
   "cell_type": "markdown",
   "metadata": {},
   "source": [
    "## University Students Monthly Expenses\n",
    "## About Dataset\n",
    "I have choosed university students monthly expenses dataset to analyse the monthly expenses of the on-campus and off-campus(study from home) students.\n",
    "In this dataset I have 65 obs. Of 13 variables.\n",
    "I have 9 bivariate variables, 3 polychotomous and 1 numeric variable(Monthly expenses) which is my QOI.\n"
   ]
  },
  {
   "attachments": {},
   "cell_type": "markdown",
   "metadata": {},
   "source": [
    "Here the link of web app is available which hosted in Internet\n",
    "#### Render\n",
    "https://university-expenses.onrender.com/"
   ]
  },
  {
   "attachments": {},
   "cell_type": "markdown",
   "metadata": {},
   "source": [
    "## Git Hub\n",
    "By the help of below github link.We can view or download the source code.\n",
    "https://github.com/KhanitaYusra/UniversityExpenses\n"
   ]
  }
 ],
 "metadata": {
  "language_info": {
   "name": "python"
  },
  "orig_nbformat": 4
 },
 "nbformat": 4,
 "nbformat_minor": 2
}
