{
 "cells": [
  {
   "attachments": {},
   "cell_type": "markdown",
   "metadata": {},
   "source": [
    "\n",
    "\n",
    "# MUNEERUNNISA M\n",
    "# Thinklabz Trainee\n",
    "# 2022 batch\n",
    "\n",
    "\n",
    "# About Project:"
   ]
  },
  {
   "attachments": {},
   "cell_type": "markdown",
   "metadata": {},
   "source": [
    "## Mini Project:(TIPS DATASET)\n",
    "\n",
    "I have downloaded dataset from kaggle website(\"https://www.kaggle.com/code/sanjanabasu/tips-dataset\").\n",
    "The Tips dataset is a data frame with 244 rows and 7 variable which represents some tipping data where one waiter recorded information about each tip he received over a period of a few months working in one restaurant.In all the waiter recorded 244 tips. The data was reported in a collection of case studies for business statistics (Bryant & Smith 1995).\n",
    "The waiter collected several variables tip in dollars, the bill in dollars, the sex of the bill payer, whether there were smokers in the party,the day of the week,the time of day and the size of the party.\n",
    "I done the analysis in both R and python programming..\n",
    "\n",
    "Here the link of web apps is available which hosted in Internet\n",
    "#### streamlit\n",
    "https://muniraghouse-streamlit-tips-data-appt-v5uc39.streamlit.app/\n",
    "#### Render\n",
    "https://tips-0j8n.onrender.com/\n",
    "\n",
    "\n",
    "### Github link:\n",
    "https://github.com/muniraghouse/streamlit_tips_data"
   ]
  }
 ],
 "metadata": {
  "language_info": {
   "name": "python"
  },
  "orig_nbformat": 4
 },
 "nbformat": 4,
 "nbformat_minor": 2
}
