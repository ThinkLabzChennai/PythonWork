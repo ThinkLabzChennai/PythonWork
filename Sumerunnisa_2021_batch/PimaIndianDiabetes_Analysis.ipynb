{
 "cells": [
  {
   "attachments": {},
   "cell_type": "markdown",
   "metadata": {},
   "source": [
    "SUMERUNNISA.H\n",
    "Thinklabz Trainee\n",
    "2021 batch"
   ]
  },
  {
   "attachments": {},
   "cell_type": "markdown",
   "metadata": {},
   "source": [
    "I had created streamlit web app by using python code in JupyterNotebook for PimaIndianDiabetes data analysis.\n"
   ]
  },
  {
   "attachments": {},
   "cell_type": "markdown",
   "metadata": {},
   "source": [
    "# ABOUT DATASET\n",
    "Analysizing Pima Indians Diabetes dataset is originally from Kaggle (*https://www.kaggle.com/uciml/pima-indians-diabetes-database*). In particular, all patients here are females at least 21 years old of Pima Indian heritage.Pima, North American Indians who traditionally lived along the Gila and Salt rivers in Arizona, U.S.\n",
    "     \n",
    "From this diabetes dataset we find out that the dataset consists of several medical predictor variables and one target variable, Outcome. Predictor variables includes the number of pregnancies the patient, their BMI, insulin level, age, DiabetesPedigreeFunction ,Glucose, BloodPressure and SkinThickness.\n",
    "  \n",
    "Objective of our project is to check which factors affect diabetes in Pima Indian women."
   ]
  },
  {
   "attachments": {},
   "cell_type": "markdown",
   "metadata": {},
   "source": [
    "Here the link of web apps is available which hosted in Internet\n",
    "#### streamlit\n",
    "https://sumerunnisah-pimaindiandiabetes-streamlitapp-diabetes-razvsn.streamlit.app/\n",
    "#### Render\n",
    "https://diabetes-w0rm.onrender.com/"
   ]
  },
  {
   "attachments": {},
   "cell_type": "markdown",
   "metadata": {},
   "source": [
    "## Git Hub\n",
    "By the help of below github link.We can view or download the source code.\n",
    "https://github.com/SumerunnisaH/PimaIndianDiabetes_StreamlitApp\n"
   ]
  }
 ],
 "metadata": {
  "language_info": {
   "name": "python"
  },
  "orig_nbformat": 4
 },
 "nbformat": 4,
 "nbformat_minor": 2
}
